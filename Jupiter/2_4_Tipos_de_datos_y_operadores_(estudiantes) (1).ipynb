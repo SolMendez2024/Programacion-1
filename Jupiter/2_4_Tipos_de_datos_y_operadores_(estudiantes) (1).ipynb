{
  "cells": [
    {
      "cell_type": "markdown",
      "metadata": {
        "id": "view-in-github"
      },
      "source": [
        "<a href=\"https://colab.research.google.com/github/Domingo1987/Curso-Python/blob/main/2_4_Tipos_de_datos_y_operadores.ipynb\" target=\"_parent\"><img src=\"https://colab.research.google.com/assets/colab-badge.svg\" alt=\"Open In Colab\"/></a>"
      ]
    },
    {
      "cell_type": "markdown",
      "metadata": {
        "id": "Nyv5epN_RD6r"
      },
      "source": [
        "## Índice\n",
        "\n",
        "1.   [Identificadores, constantes y variables](#-identificadores,-constantes-y-variables)\n",
        "2.   [Tipos de datos simples. Enteros, reales, booleanos y caracteres](#tipos-de-datos-simples.-enteros,-reales,-booleanos-y-caracteres)\n",
        "3.   [Operadores logicos y de comparacion](#-operadores-lógicos-y-de-comparacion)\n",
        "4.   [Comparaciones encadenadas](#-comparaciones-encadenadas)\n",
        "5.   [Desafio 1: Clasificar números](#-Desafio-1:-Clasificar-numeros)\n",
        "6.   [Desafio 2: Calcular promedio](#-Desafio-2:-Calcular-promedio)\n",
        "7.   [Ejemplos](#-Ejemplos![IdentificadoresNoPermitidos.png](data:image/png;base64,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))"
      ]
    },
    {
      "cell_type": "markdown",
      "metadata": {
        "id": "Zrf6O3RVkwZ9"
      },
      "source": [
        "# Identificadores, constantes y variables\n",
        "En Python, un identificador es un nombre que se utiliza para identificar una variable, función, clase, módulo u otro objeto. Los identificadores son sensibles a mayúsculas y minúsculas y deben seguir ciertas reglas de nomenclatura. Para nombrar los identificadores en Python, se utilizan letras, números y guiones bajos. Sin embargo, el primer carácter no puede ser un número y no se permiten espacios ni caracteres especiales.\n",
        "\n",
        "Para garantizar la creación correcta de identificadores en Python, es importante seguir las PEP 8, que son las guías de estilo de Python. Estas proporcionan recomendaciones sobre cómo nombrar variables, funciones y otros objetos de manera consistente y legible para otros programadores. Puedes encontrar las [PEP 8 en el sitio web oficial de Python](https://peps.python.org/pep-0008/). Siguiendo estas pautas, puedes mejorar la claridad y la legibilidad de tu código, lo que facilita su mantenimiento y colaboración con otros desarrolladores.\n",
        "\n",
        "Por ejemplo, los siguientes son identificadores válidos en Python:"
      ]
    },
    {
      "cell_type": "code",
      "execution_count": null,
      "metadata": {
        "id": "9xPs9kVyRTlE"
      },
      "outputs": [],
      "source": [
        "numero\n",
        "total_venta\n",
        "ListaDeCompras"
      ]
    },
    {
      "cell_type": "markdown",
      "metadata": {
        "id": "0nfjr3nIl2gE"
      },
      "source": [
        "Mientras que los siguientes no son identificadores válidos:"
      ]
    },
    {
      "cell_type": "code",
      "execution_count": null,
      "metadata": {
        "id": "YFSXdTXrPsHY"
      },
      "outputs": [],
      "source": [
        "2d_array  # el primer carácter no puede ser un número\n",
        "mi identificador  # no se permiten espacios\n",
        "total$  # no se permiten caracteres especiales"
      ]
    },
    {
      "cell_type": "markdown",
      "metadata": {
        "id": "N6aLbY12FxpH"
      },
      "source": [
        "*Nota 2: Cabe destacar, que por mas que no es inválido, utilizar los caracteres \"l\" (ele minúscula), \"i\" (letra i latina mayuscula), \"O\" (letra o mayúscula) y \"0\" (número cero), puede causar confusión según el caso en donde se utilicen.*"
      ]
    },
    {
      "cell_type": "markdown",
      "metadata": {
        "id": "IbEAjo90LM88"
      },
      "source": [
        "También se tiene en cuenta que, como la mayoría de lenguajes, Python tiene una lista de palabras reservadas, que no pueden utilizarse como identificadores:\n",
        "\n",
        "| Palabra reservadas |\n",
        "|---------------|\n",
        "| False         |\n",
        "| True          |\n",
        "| def           |\n",
        "| while         |\n",
        "| if            |\n",
        "| else          |\n",
        "| etc ...       |\n"
      ]
    },
    {
      "cell_type": "markdown",
      "metadata": {},
      "source": [
        "Para ver la lista completa utiliza el siguiente codigo en Python:"
      ]
    },
    {
      "cell_type": "code",
      "execution_count": 2,
      "metadata": {},
      "outputs": [
        {
          "name": "stdout",
          "output_type": "stream",
          "text": [
            "['False', 'None', 'True', 'and', 'as', 'assert', 'async', 'await', 'break', 'class', 'continue', 'def', 'del', 'elif', 'else', 'except', 'finally', 'for', 'from', 'global', 'if', 'import', 'in', 'is', 'lambda', 'nonlocal', 'not', 'or', 'pass', 'raise', 'return', 'try', 'while', 'with', 'yield']\n"
          ]
        }
      ],
      "source": [
        "import keyword\n",
        "\n",
        "print(keyword.kwlist)"
      ]
    },
    {
      "cell_type": "markdown",
      "metadata": {
        "id": "_4bajzrTl7mA"
      },
      "source": [
        "Las constantes son valores que no cambian durante la ejecución de un programa. En Python, se utilizan variables para almacenar constantes. Las constantes pueden ser números, cadenas de texto, booleanos o cualquier otro valor inmutable.\n",
        "\n",
        "Por ejemplo, los siguientes son constantes en Python:"
      ]
    },
    {
      "cell_type": "code",
      "execution_count": null,
      "metadata": {
        "id": "e9y8hSkyl8iM"
      },
      "outputs": [],
      "source": [
        "PI = 3.14159\n",
        "NOMBRE_EMPRESA = \"Acme Corporation\"\n",
        "ES_POSITIVO = True"
      ]
    },
    {
      "cell_type": "markdown",
      "metadata": {
        "id": "3js_bf3Tl_KU"
      },
      "source": [
        "Las variables en Python son objetos que se utilizan para almacenar datos. Las variables se crean cuando se les asigna un valor y pueden cambiar durante la ejecución de un programa.\n",
        "\n",
        "Por ejemplo, el siguiente código crea una variable llamada edad y le asigna el valor 25:"
      ]
    },
    {
      "cell_type": "code",
      "execution_count": null,
      "metadata": {
        "id": "IZqYUDokmAc9"
      },
      "outputs": [],
      "source": [
        "edad = 25"
      ]
    },
    {
      "cell_type": "markdown",
      "metadata": {
        "id": "JuC930pzmDF4"
      },
      "source": [
        "En Python, las variables no necesitan ser declaradas antes de usarlas. Python automáticamente asigna un tipo de datos a las variables basándose en el valor que se les asigna. Por ejemplo, si se asigna un número entero a una variable, Python automáticamente la considerará como una variable de tipo int. Si se asigna una cadena de texto a una variable, Python la considerará como una variable de tipo str.\n",
        "\n",
        "Es importante tener en cuenta que las variables en Python son sensibles a mayúsculas y minúsculas. Esto significa que las variables edad y Edad son dos variables diferentes en Python.\n",
        "\n",
        "Además, las variables en Python pueden ser eliminadas utilizando la palabra clave del. Por ejemplo, el siguiente código elimina la variable edad:"
      ]
    },
    {
      "cell_type": "code",
      "execution_count": null,
      "metadata": {
        "id": "_8Hw11Mop0yX"
      },
      "outputs": [],
      "source": [
        "del edad"
      ]
    },
    {
      "cell_type": "markdown",
      "metadata": {
        "id": "MSeGFRBik5fO"
      },
      "source": [
        "# Tipos de datos simples. Enteros, reales, booleanos y caracteres."
      ]
    },
    {
      "cell_type": "markdown",
      "metadata": {
        "id": "oO7oT2c8ncdw"
      },
      "source": [
        "En programación, los datos son la información que se manipula. Los lenguajes de programación trabajan con diferentes tipos de datos para poder manipular la información. En este artículo nos enfocaremos en los tipos de datos simples en Python, que son los más básicos y fundamentales para cualquier programa.\n",
        "\n",
        "Python es un lenguaje de programación orientado a objetos, lo que significa que cada valor en Python es un objeto. Un objeto es una estructura de datos que puede tener atributos (variables) y métodos (funciones). Los objetos en Python tienen un tipo que determina qué operaciones se pueden realizar con ellos.\n",
        "\n",
        "Tipos de datos simples\n",
        "\n",
        "Los tipos de datos simples en Python se dividen en cuatro categorías: enteros, reales, booleanos y caracteres. En Python también existe un tipo de dato complejo, que nos permite trabajar con números complejos.\n",
        "\n",
        "Enteros (int)\n",
        "\n",
        "Los enteros son números sin parte decimal. En Python, los enteros se representan con el tipo de datos int. Los enteros se pueden representar en notación decimal, binaria, octal y hexadecimal.\n",
        "\n",
        "Por ejemplo, para definir una variable entera y mostrar su valor y tipo, podemos hacer lo siguiente:"
      ]
    },
    {
      "cell_type": "code",
      "execution_count": null,
      "metadata": {
        "colab": {
          "base_uri": "https://localhost:8080/"
        },
        "id": "06T-FpltlAzM",
        "outputId": "6e671900-9d2d-4eb3-f605-5314ebd18797"
      },
      "outputs": [],
      "source": [
        "numero_entero = 10\n",
        "print(\"Número entero:\", numero_entero, \"Tipo:\", type(numero_entero))"
      ]
    },
    {
      "cell_type": "markdown",
      "metadata": {
        "id": "aOIsGOpToyFL"
      },
      "source": [
        "Reales (float)\n",
        "\n",
        "Los números reales son aquellos que tienen una parte decimal. En Python, los números reales se representan con el tipo de datos float.\n",
        "\n",
        "Por ejemplo, para definir una variable real y mostrar su valor y tipo, podemos hacer lo siguiente:"
      ]
    },
    {
      "cell_type": "code",
      "execution_count": null,
      "metadata": {
        "colab": {
          "base_uri": "https://localhost:8080/"
        },
        "id": "c70s0pL2ozrz",
        "outputId": "27ff36bc-8478-45c5-f728-c086b0198525"
      },
      "outputs": [],
      "source": [
        "numero_real = 3.1416\n",
        "print(\"Número real:\", numero_real, \"Tipo:\", type(numero_real))"
      ]
    },
    {
      "cell_type": "markdown",
      "metadata": {
        "id": "IcuK_DDbo1V7"
      },
      "source": [
        "Booleanos (bool)\n",
        "\n",
        "Los booleanos son tipos de datos que solo pueden tomar dos valores: True (verdadero) o False (falso). En Python, los booleanos se representan con el tipo de datos bool.\n",
        "\n",
        "Por ejemplo, para definir una variable booleana y mostrar su valor y tipo, podemos hacer lo siguiente:"
      ]
    },
    {
      "cell_type": "code",
      "execution_count": null,
      "metadata": {
        "colab": {
          "base_uri": "https://localhost:8080/"
        },
        "id": "hUPItMuOo2tV",
        "outputId": "949e5f21-d262-4a00-8eeb-a390abd00480"
      },
      "outputs": [],
      "source": [
        "verdadero = True\n",
        "print(\"Booleano:\", verdadero, \"Tipo:\", type(verdadero))"
      ]
    },
    {
      "cell_type": "markdown",
      "metadata": {
        "id": "KjdmzyUEo4R1"
      },
      "source": [
        "Caracteres (str)\n",
        "\n",
        "Los caracteres son un tipo de dato que representa un solo carácter. En Python, los caracteres se representan con el tipo de datos str.\n",
        "\n",
        "Por ejemplo, para definir una variable de tipo carácter y mostrar su valor y tipo, podemos hacer lo siguiente:"
      ]
    },
    {
      "cell_type": "code",
      "execution_count": null,
      "metadata": {
        "colab": {
          "base_uri": "https://localhost:8080/"
        },
        "id": "kM2ChOYlo7A8",
        "outputId": "1d25a0a0-2b05-4b62-acbc-9b4351289625"
      },
      "outputs": [],
      "source": [
        "caracter = 'a'\n",
        "print(\"Carácter:\", caracter, \"Tipo:\", type(caracter))"
      ]
    },
    {
      "cell_type": "markdown",
      "metadata": {
        "id": "EKGsVhsho8k8"
      },
      "source": [
        "Complejos (complex)\n",
        "\n",
        "Los números complejos son aquellos que tienen una parte real y una parte imaginaria. En Python, los números complejos se representan con el tipo de datos complex.\n",
        "\n",
        "Por ejemplo, para definir una variable compleja y mostrar su valor y tipo, podemos hacer lo siguiente:"
      ]
    },
    {
      "cell_type": "code",
      "execution_count": null,
      "metadata": {
        "colab": {
          "base_uri": "https://localhost:8080/"
        },
        "id": "H31l86bZo-HL",
        "outputId": "09dfea8e-e07d-46db-c29b-3eba5349b406"
      },
      "outputs": [],
      "source": [
        "numero_complejo = 2+3j\n",
        "print(\"Número complejo:\", numero_complejo, \"Tipo:\", type(numero_complejo))"
      ]
    },
    {
      "cell_type": "markdown",
      "metadata": {
        "id": "jmd7_BeKnE5v"
      },
      "source": [
        "# Operadores logicos y de comparacion"
      ]
    },
    {
      "cell_type": "markdown",
      "metadata": {
        "id": "Y-pk7Jr1nJpo"
      },
      "source": [
        "Los operadores lógicos y de comparación son fundamentales en la programación, ya que permiten evaluar condiciones y realizar acciones basadas en el resultado de esas condiciones. En Python, tenemos operadores de comparación para comparar valores y operadores lógicos para combinar condiciones.\n",
        "\n",
        "## Operadores de comparacion\n",
        "Los operadores de comparación son utilizados para comparar dos valores y devuelven un valor booleano, es decir, True o False. Los operadores de comparación en Python incluyen:\n",
        "\n",
        "* Igual (==)\n",
        "* Diferente (!=)\n",
        "* Mayor que (>)\n",
        "* Menor que (<)\n",
        "* Mayor o igual que (>=)\n",
        "* Menor o igual que (<=)\n",
        "\n",
        "Ejemplo de uso de operadores de comparación:"
      ]
    },
    {
      "cell_type": "code",
      "execution_count": null,
      "metadata": {
        "id": "TMp9NMFkrvxW",
        "outputId": "8f2ffdde-c7a0-404e-bdf4-210351a9e193"
      },
      "outputs": [],
      "source": [
        "a = 5\n",
        "b = 7\n",
        "\n",
        "print(\"a == b:\", a == b) # Falso, porque 5 no es igual a 7\n",
        "print(\"a != b:\", a != b) # Verdadero, porque 5 es diferente de 7\n",
        "print(\"a > b:\", a > b)   # Falso, porque 5 no es mayor que 7\n",
        "print(\"a < b:\", a < b)   # Verdadero, porque 5 es menor que 7\n",
        "print(\"a >= b:\", a >= b) # Falso, porque 5 no es mayor o igual que 7\n",
        "print(\"a <= b:\", a <= b) # Verdadero, porque 5 es menor o igual que 7"
      ]
    },
    {
      "cell_type": "markdown",
      "metadata": {
        "id": "g_p9h7s6r0Dx"
      },
      "source": [
        "## Operadores logicos\n",
        "Los operadores lógicos son utilizados para combinar condiciones. Los operadores lógicos en Python incluyen:\n",
        "\n",
        "* and: Devuelve True si ambas condiciones son verdaderas, de lo contrario devuelve False.\n",
        "* or: Devuelve True si al menos una de las condiciones es verdadera, de lo contrario devuelve False.\n",
        "* not: Devuelve True si la condición es falsa, y False si la condición es verdadera.\n",
        "\n",
        "Ejemplo de uso de operadores lógicos:"
      ]
    },
    {
      "cell_type": "code",
      "execution_count": null,
      "metadata": {
        "id": "f-1Z6R6Ir-YK",
        "outputId": "b51c6d6b-b3a0-4589-dd27-6a267d0f278e"
      },
      "outputs": [],
      "source": [
        "x = 5\n",
        "y = 10\n",
        "z = 15\n",
        "\n",
        "# Comprobar si x es menor que y y si y es menor que z\n",
        "condicion1 = x < y and y < z\n",
        "print(\"Condición 1 (x < y y y < z):\", condicion1) # Verdadero\n",
        "\n",
        "# Comprobar si x es igual a y o si y es igual a z\n",
        "condicion2 = x == y or y == z\n",
        "print(\"Condición 2 (x == y o y == z):\", condicion2) # Falso\n",
        "\n",
        "# Negar la condición 1\n",
        "condicion3 = not condicion1\n",
        "print(\"Condición 3 (negación de la condición 1):\", condicion3) # Falso"
      ]
    },
    {
      "cell_type": "markdown",
      "metadata": {
        "id": "RIylnd6csCej"
      },
      "source": [
        "En este ejemplo, hemos utilizado operadores de comparación y operadores lógicos para construir condiciones más complejas y realizar acciones basadas en el resultado de esas condiciones."
      ]
    },
    {
      "cell_type": "markdown",
      "metadata": {
        "id": "EdyLuTFrsF-R"
      },
      "source": [
        "# Comparaciones encadenadas\n",
        "\n",
        "Una característica interesante de Python es la posibilidad de realizar comparaciones encadenadas, lo que permite escribir condiciones más compactas y legibles. Veamos un ejemplo de cómo podemos utilizar comparaciones encadenadas y luego plantearemos un desafío para poner en práctica este concepto.\n",
        "\n",
        "En Python, se pueden encadenar comparaciones en una sola expresión. Por ejemplo, en lugar de escribir x < y and y < z, puedes escribir x < y < z. Esto es posible gracias a la evaluación de cortocircuito de Python, lo que significa que si la primera comparación devuelve False, el resto de las comparaciones no se evaluarán.\n",
        "\n",
        "Ejemplo de comparaciones encadenadas:"
      ]
    },
    {
      "cell_type": "code",
      "execution_count": null,
      "metadata": {
        "id": "VbgPr8YhstL7"
      },
      "outputs": [],
      "source": [
        "a = 5\n",
        "b = 10\n",
        "c = 15\n",
        "\n",
        "# Comprobar si a es menor que b y si b es menor que c\n",
        "condicion_encadenada = a < b < c\n",
        "print(\"Comparación encadenada (a < b < c):\", condicion_encadenada) # Verdadero"
      ]
    },
    {
      "cell_type": "markdown",
      "metadata": {
        "id": "rjg0ZURjsv4z"
      },
      "source": [
        "# Desafío 1: Clasificar numeros\n",
        "\n",
        "Dado tres números distintos, clasificarlos en orden ascendente utilizando comparaciones encadenadas y operadores lógicos."
      ]
    },
    {
      "cell_type": "code",
      "execution_count": null,
      "metadata": {
        "cellView": "form",
        "colab": {
          "base_uri": "https://localhost:8080/"
        },
        "id": "s8mnD2ETsy35",
        "outputId": "c265013e-69ab-4e55-e4fd-43555a4b87c3"
      },
      "outputs": [],
      "source": [
        "#@title Solucion\n",
        "\n",
        "num1 = 7\n",
        "num2 = 5\n",
        "num3 = 7\n",
        "\n",
        "# Inicializar variables para almacenar los números ordenados\n",
        "minimo = medio = maximo = None\n",
        "\n",
        "# Clasificar los números utilizando comparaciones encadenadas\n",
        "if num1 < num2 <= num3 or num1 <= num3 <= num2:\n",
        "    minimo = num1\n",
        "elif num2 <= num1 <= num3 or num2 <= num3 <= num1:\n",
        "    minimo = num2\n",
        "else:\n",
        "    minimo = num3\n",
        "\n",
        "if num1 <= num2 <= num3 or num3 <= num2 <= num1:\n",
        "    medio = num2\n",
        "elif num2 <= num1 <= num3 or num3 <= num1 <= num2:\n",
        "    medio = num1\n",
        "else:\n",
        "    medio = num3\n",
        "\n",
        "#print(num1, \">=\", num2, \">=\", num3, \" el valor es \", num1 >= num2 >= num3)\n",
        "if num1 >= num2 >= num3 or num1 >= num3 >= num2:\n",
        "    maximo = num1\n",
        "elif num2 >= num1 >= num3 or num2 >= num3 >= num1:\n",
        "    maximo = num2\n",
        "else:\n",
        "    maximo = num3\n",
        "\n",
        "print(\"Números ordenados:\", minimo, medio, maximo)"
      ]
    },
    {
      "cell_type": "markdown",
      "metadata": {
        "id": "F33J-X7dRTmh"
      },
      "source": [
        "# Desafío 2: Calcular promedio\n",
        "Crear un programa que lea 5 calificaciones y calcule su promedio"
      ]
    },
    {
      "cell_type": "code",
      "execution_count": null,
      "metadata": {
        "cellView": "form",
        "id": "zSE4b3OIRTmj"
      },
      "outputs": [],
      "source": [
        "#@title Solucion\n",
        "# Defino las 5 variables para las calificaciones\n",
        "nota1 = nota2 = nota3 = nota4 = nota5 = None\n",
        "promedio = 0.0\n",
        "\n",
        "nota1 = int(input(\"Ingrese la calificacion: \"))\n",
        "nota2 = int(input(\"Ingrese la calificacion: \"))\n",
        "nota3 = int(input(\"Ingrese la calificacion: \"))\n",
        "nota4 = int(input(\"Ingrese la calificacion: \"))\n",
        "nota5 = int(input(\"Ingrese la calificacion: \"))\n",
        "\n",
        "promedio = (nota1 + nota2 + nota3 + nota4 + nota5)/5\n",
        "\n",
        "#Respondo el promedio de notas\n",
        "print(\"Promedio es: \", promedio)"
      ]
    },
    {
      "cell_type": "markdown",
      "metadata": {
        "id": "fbkiEpmUI2iZ"
      },
      "source": [
        "# Ejemplos\n"
      ]
    },
    {
      "cell_type": "markdown",
      "metadata": {
        "id": "C2Iqf0o9I_Ca"
      },
      "source": [
        "Aquí se señala la importancia de que los identificadores sean \"sensibles a mayúsculas y minúsculas\", siendo qué numero y Numero son dos variables diferentes."
      ]
    },
    {
      "cell_type": "code",
      "execution_count": null,
      "metadata": {
        "colab": {
          "base_uri": "https://localhost:8080/"
        },
        "id": "_zUTgpPoO4mD",
        "outputId": "180b38fb-b2fe-4287-b80f-d702bfb0d042"
      },
      "outputs": [],
      "source": [
        "numero = 12 # Se crea la variable \"numero\"\n",
        "Numero = 86 # Se crea la variable \"Numero\", siendo un identificador completamente diferente\n",
        "\n",
        "print (\"La variable ´numero´, tiene un valor de:\", numero, \", mientras que la variable ´Numero´ tiene el valor de:\", Numero, \". Demostrando así que ambas son completamente diferentes para Python.\")"
      ]
    }
  ],
  "metadata": {
    "colab": {
      "collapsed_sections": [
        "jmd7_BeKnE5v"
      ],
      "provenance": []
    },
    "kernelspec": {
      "display_name": "Python 3",
      "name": "python3"
    },
    "language_info": {
      "codemirror_mode": {
        "name": "ipython",
        "version": 3
      },
      "file_extension": ".py",
      "mimetype": "text/x-python",
      "name": "python",
      "nbconvert_exporter": "python",
      "pygments_lexer": "ipython3",
      "version": "3.12.2"
    }
  },
  "nbformat": 4,
  "nbformat_minor": 0
}
